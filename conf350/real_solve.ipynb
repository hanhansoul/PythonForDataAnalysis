{
 "cells": [
  {
   "cell_type": "code",
   "execution_count": null,
   "metadata": {},
   "outputs": [],
   "source": [
    "import pandas as pd\n",
    "\n",
    "df = pd.read_excel('input.xls', header=0)\n",
    "df.fillna(method='ffill', inplace=True)\n",
    "df.rename(columns=lambda x: 'attr%d' % x, inplace=True)\n",
    "df = df.reindex(columns=['attr1', 'attr2', 'attr3', 'attr4', \n",
    "                         'sid1', 'sid2', 'sid3', 'sid4', 'display'])\n",
    "df['attr1'].replace({'运行能力': '飞机能力'}, inplace=True)\n",
    "\n",
    "mapping = {'全舱': '客舱构型及氧气系统',\n",
    "  '公务舱': '客舱构型及氧气系统',\n",
    "  '厕所': '客舱构型及氧气系统',\n",
    "  '厨房': '客舱构型及氧气系统',\n",
    "  '发动机和APU': '机型/发动机及APU型号/鲨鳍小翼',\n",
    "  '娱乐系统': '客舱构型及氧气系统',\n",
    "  '客舱': '客舱构型及氧气系统',\n",
    "  '导航': '飞机能力及导航设备',\n",
    "  '翼梢小翼': '机型/发动机及APU型号/鲨鳍小翼',\n",
    "  '应急设备': '客舱构型及氧气系统',\n",
    "  '机型/发动机型号': '机型/发动机及APU型号/鲨鳍小翼',\n",
    "  '机载维修系统': None,\n",
    "  '氧气': '客舱构型及氧气系统',\n",
    "  '燃油': '飞机重量及燃油容积',\n",
    "  '经济舱': '客舱构型及氧气系统',\n",
    "  '计量单位': '飞机能力及导航设备',\n",
    "  '译码和参数': '通信设备/译码与参数',\n",
    "  '货舱': '货舱舱构型',\n",
    "  '轮胎刹车': None,\n",
    "  '通信': '通信设备/译码与参数',\n",
    "  '重量信息': '飞机重量及燃油容积',\n",
    "  '防冰': None,\n",
    "  '飞机能力': '飞机能力及导航设备'}\n",
    "\n",
    "df['attr4'] = df['attr1'].replace(mapping)\n",
    "\n",
    "def solve(frame, ii, origin):\n",
    "    if ii > 3:\n",
    "        return\n",
    "    attr, sid = 'attr' + str(ii), 'sid' + str(ii)\n",
    "    series = frame[attr].drop_duplicates()\n",
    "    mapping = {}\n",
    "    for i, x in enumerate(series):\n",
    "        solve(frame[frame[attr] == x], ii + 1, origin)\n",
    "        mapping[x] = str(i + 1)\n",
    "    origin[sid].iloc[frame.index] = frame[attr].replace(mapping)\n",
    "    \n",
    "solve(df, 1, df)\n",
    "df"
   ]
  }
 ],
 "metadata": {
  "kernelspec": {
   "display_name": "Python 3",
   "language": "python",
   "name": "python3"
  },
  "language_info": {
   "codemirror_mode": {
    "name": "ipython",
    "version": 3
   },
   "file_extension": ".py",
   "mimetype": "text/x-python",
   "name": "python",
   "nbconvert_exporter": "python",
   "pygments_lexer": "ipython3",
   "version": "3.5.1"
  }
 },
 "nbformat": 4,
 "nbformat_minor": 2
}
