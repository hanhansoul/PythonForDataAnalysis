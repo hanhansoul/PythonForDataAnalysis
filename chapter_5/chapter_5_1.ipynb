{
 "cells": [
  {
   "cell_type": "markdown",
   "metadata": {},
   "source": [
    "# pandas数据结构\n",
    "\n",
    "pandas提供了两种数据结构：Series和DataFrame。\n",
    "\n",
    "首先导入pandas相关的模块。"
   ]
  },
  {
   "cell_type": "code",
   "execution_count": 4,
   "metadata": {},
   "outputs": [],
   "source": [
    "import pandas as pd"
   ]
  },
  {
   "cell_type": "markdown",
   "metadata": {},
   "source": [
    "## Series\n",
    "\n",
    "Series是一个包含一列数据的一维数组形式的对象，其中每一项数据都关联了一个数据标签作为索引，Series的默认索引是以0为起始的递增数列。\n",
    "\n",
    "一个最简单的Series如下所示。"
   ]
  },
  {
   "cell_type": "code",
   "execution_count": 5,
   "metadata": {},
   "outputs": [
    {
     "data": {
      "text/plain": [
       "0    4\n",
       "1    7\n",
       "2   -5\n",
       "3    3\n",
       "dtype: int64"
      ]
     },
     "execution_count": 5,
     "metadata": {},
     "output_type": "execute_result"
    }
   ],
   "source": [
    "obj = pd.Series([4, 7, -5, 3])\n",
    "obj"
   ]
  },
  {
   "cell_type": "markdown",
   "metadata": {},
   "source": [
    "可以通过Series对象的index和values属性返回该Series对象的索引和值列表。"
   ]
  },
  {
   "cell_type": "code",
   "execution_count": 6,
   "metadata": {},
   "outputs": [
    {
     "name": "stdout",
     "output_type": "stream",
     "text": [
      "[ 4  7 -5  3]\n",
      "RangeIndex(start=0, stop=4, step=1)\n"
     ]
    }
   ],
   "source": [
    "# obj的索引\n",
    "print(obj.index)\n",
    "# obj的值\n",
    "print(obj.values)"
   ]
  },
  {
   "cell_type": "markdown",
   "metadata": {},
   "source": [
    "**创建Series时给定索引**\n",
    "\n",
    "可以在创建Series对象时指定index属性值，为Series对象提供索引。"
   ]
  },
  {
   "cell_type": "code",
   "execution_count": 7,
   "metadata": {},
   "outputs": [
    {
     "data": {
      "text/plain": [
       "d    4\n",
       "b    7\n",
       "a   -5\n",
       "c    3\n",
       "dtype: int64"
      ]
     },
     "execution_count": 7,
     "metadata": {},
     "output_type": "execute_result"
    }
   ],
   "source": [
    "obj2 = pd.Series([4, 7, -5, 3], index=['d', 'b', 'a', 'c'])\n",
    "obj2"
   ]
  },
  {
   "cell_type": "markdown",
   "metadata": {},
   "source": [
    "**通过索引返回Series中元素引用(\\[\\]的检索与赋值操作)**\n",
    "\n",
    "与数组操作类似，可以通过Series的索引选择并返回一个或多个值，或对一个或多个值进行赋值操作。"
   ]
  },
  {
   "cell_type": "code",
   "execution_count": 8,
   "metadata": {},
   "outputs": [
    {
     "name": "stdout",
     "output_type": "stream",
     "text": [
      "-5\n",
      "a   -5\n",
      "dtype: int64\n",
      "c    3\n",
      "a   -5\n",
      "d    4\n",
      "dtype: int64\n",
      "6\n"
     ]
    }
   ],
   "source": [
    "# 返回单个值\n",
    "print(obj2['a'])\n",
    "print(obj2[['a']])\n",
    "# 返回多个值，\n",
    "print(obj2[['c', 'a', 'd']])\n",
    "# 赋值\n",
    "obj2['d'] = 6\n",
    "print(obj2['d'])"
   ]
  }
 ],
 "metadata": {
  "kernelspec": {
   "display_name": "Python 3",
   "language": "python",
   "name": "python3"
  },
  "language_info": {
   "codemirror_mode": {
    "name": "ipython",
    "version": 3
   },
   "file_extension": ".py",
   "mimetype": "text/x-python",
   "name": "python",
   "nbconvert_exporter": "python",
   "pygments_lexer": "ipython3",
   "version": "3.5.1"
  }
 },
 "nbformat": 4,
 "nbformat_minor": 1
}
