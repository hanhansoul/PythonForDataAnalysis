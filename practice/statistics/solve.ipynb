{
 "cells": [
  {
   "cell_type": "code",
   "execution_count": 8,
   "metadata": {},
   "outputs": [],
   "source": [
    "import numpy as np\n",
    "import pandas as pd\n",
    "\n",
    "# df = pd.read_excel('input.xlsx', sheet_name=1, usecols='A,R,S')\n",
    "df = pd.read_excel('input.xlsx', sheet_name=1)\n",
    "df.sort_values(by='TASKNUMBER')\n",
    "sdf = df[['TASKNUMBER', 'SCORE']].groupby(by='TASKNUMBER').sum().reset_index()\n",
    "sdf.to_excel('output1.xlsx')"
   ]
  },
  {
   "cell_type": "code",
   "execution_count": 7,
   "metadata": {},
   "outputs": [],
   "source": [
    "res = pd.merge(df, sdf, how='left', on='TASKNUMBER')\n",
    "res = pd.concat([res, res.duplicated(subset=['TASKNUMBER'])], axis=1)\n",
    "res.rename(columns={0: 'NOTFIRST', 'SCORE_x': 'SCORE', 'SCORE_y': 'SUM'}, inplace=True)\n",
    "\n",
    "def func(x):\n",
    "    if x['NOTFIRST'] == True:\n",
    "        x['SUM'] = np.nan\n",
    "    return x\n",
    "res = res.apply(func, axis=1)\n",
    "# res[['TASKNUMBER', 'SCORE', 'SUM']].to_excel('output.xlsx')\n",
    "res.drop(columns=['NOTFIRST', 'RESULT'], inplace=True)\n",
    "res.to_excel('output.xlsx')"
   ]
  },
  {
   "cell_type": "code",
   "execution_count": 65,
   "metadata": {},
   "outputs": [],
   "source": [
    "# res = pd.merge(df[['TASKNUMBER', 'SCORE']], sdf, how='left', on='TASKNUMBER')\n",
    "# res = pd.merge(df[['TASKNUMBER', 'SCORE']], sdf, how='left', on='TASKNUMBER')\n",
    "# res = pd.concat([res, res.duplicated()], axis=1)\n",
    "# res.rename(columns={0: 'NOTFIRST', 'SCORE_x': 'SCORE', 'SCORE_y': 'SUM'}, inplace=True)\n",
    "\n",
    "# def func(x):\n",
    "#     if x['NOTFIRST'] == True:\n",
    "#         x['SUM'] = np.nan\n",
    "#     return x\n",
    "# res = res.apply(func, axis=1)\n",
    "# res[['TASKNUMBER', 'SCORE', 'SUM']].to_excel('output.xlsx')"
   ]
  }
 ],
 "metadata": {
  "kernelspec": {
   "display_name": "Python 3",
   "language": "python",
   "name": "python3"
  },
  "language_info": {
   "codemirror_mode": {
    "name": "ipython",
    "version": 3
   },
   "file_extension": ".py",
   "mimetype": "text/x-python",
   "name": "python",
   "nbconvert_exporter": "python",
   "pygments_lexer": "ipython3",
   "version": "3.5.1"
  }
 },
 "nbformat": 4,
 "nbformat_minor": 2
}
