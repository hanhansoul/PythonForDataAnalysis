{
 "cells": [
  {
   "cell_type": "code",
   "execution_count": 2,
   "metadata": {},
   "outputs": [],
   "source": [
    "import pandas as pd"
   ]
  },
  {
   "cell_type": "code",
   "execution_count": 3,
   "metadata": {},
   "outputs": [],
   "source": [
    "# 读入数据\n",
    "fmct = pd.read_excel('FMCT.xlsx')\n",
    "fmop = pd.read_excel('FMOP.xlsx')\n",
    "fmvs = pd.read_excel('FMVS.xlsx')\n",
    "fmpg = pd.read_excel('FMPG.xlsx', dtype=str).replace('nan', '')"
   ]
  },
  {
   "cell_type": "code",
   "execution_count": 4,
   "metadata": {},
   "outputs": [],
   "source": [
    "# 重命名参考表列名\n",
    "nfmvs = pd.DataFrame(fmvs[['VSAPPL', 'VSNUMDOC', 'VSTITRE']])\n",
    "nfmct = pd.DataFrame(fmct[['CTAPPL', 'CTNUMDOC', 'CTTITRE']])\n",
    "nfmop = pd.DataFrame(fmop[['OPAPPL', 'OPNUMDOC', 'OPTITRE']])\n",
    "nfmvs.rename(columns={'VSAPPL': 'PROTOCOL', 'VSNUMDOC': 'REFERENCE', 'VSTITRE': 'TITLE'}, inplace=True)\n",
    "nfmct.rename(columns={'CTAPPL': 'PROTOCOL', 'CTNUMDOC': 'REFERENCE', 'CTTITRE': 'TITLE'}, inplace=True)\n",
    "nfmop.rename(columns={'OPAPPL': 'PROTOCOL', 'OPNUMDOC': 'REFERENCE', 'OPTITRE': 'TITLE'}, inplace=True)\n",
    "docs = [nfmvs, nfmct, nfmop]"
   ]
  },
  {
   "cell_type": "code",
   "execution_count": 5,
   "metadata": {},
   "outputs": [],
   "source": [
    "# 日期格式化\n",
    "def series_element_join(years, months, days):\n",
    "    ll = []\n",
    "    for y, m, d in zip(years, months, days):\n",
    "        ll.append(y + m + d)\n",
    "#         if y != '' and m != '' and d != '':\n",
    "#             ll.append(''.join([y, m, d]))\n",
    "#         else:\n",
    "#             ll.append('')\n",
    "    return pd.Series(ll)"
   ]
  },
  {
   "cell_type": "code",
   "execution_count": 6,
   "metadata": {},
   "outputs": [],
   "source": [
    "# 按导出列名重构fmpg\n",
    "d = {'AC': fmpg['PGNUMAP'].str.strip(),\n",
    "     'PROTOCOL': fmpg['PGAPPL'].str.strip(),\n",
    "     'PGCODTE': fmpg['PGCODTE'],\n",
    "     'REFERENCE': fmpg['PGNUMDOC'].str.strip(),\n",
    "     'STATUS': fmpg['PGSIT'].str.strip(),\n",
    "     'PERFORMACE_DOC': fmpg['PGAPPDOC1'].str.strip() + fmpg['PGAPPDOC2'].str.strip(),\n",
    "     'PERFORMACE_DATE': series_element_join(fmpg['PGAPPA4'].str.strip(), fmpg['PGAPPMM'].str.strip(), fmpg['PGAPPJJ'].str.strip()),\n",
    "     'FH_DEADLINE': fmpg['PGPRVH'],\n",
    "     'CY_DEADLINE': fmpg['PGPRVC'],\n",
    "     'DEADLINE_DOC': fmpg['PGPRVDOC1'].str.strip() + fmpg['PGPRVDOC2'].str.strip(),\n",
    "     'DEADLINE_DATE': series_element_join(fmpg['PGPRVA4'].str.strip(), fmpg['PGPRVMM'].str.strip(), fmpg['PGPRVJJ'].str.strip())\n",
    "    }\n",
    "\n",
    "nfmpg = pd.DataFrame(d, columns=['AC', 'PROTOCOL', 'PGCODTE', 'REFERENCE', 'STATUS', 'PERFORMACE_DOC', 'PERFORMACE_DATE', \n",
    "                              'FH_DEADLINE', 'CY_DEADLINE', 'DEADLINE_DOC', 'DEADLINE_DATE'])"
   ]
  },
  {
   "cell_type": "code",
   "execution_count": null,
   "metadata": {},
   "outputs": [],
   "source": [
    "# 根据reference过滤\n",
    "drop_references = [('A320', '341300-11-1')]\n"
   ]
  },
  {
   "cell_type": "code",
   "execution_count": null,
   "metadata": {},
   "outputs": [],
   "source": [
    "# 根据doc类型分组\n",
    "groupbycode = nfmpg.groupby(nfmpg['PGCODTE'])\n",
    "dfs = []\n",
    "for k, v in groupbycode:\n",
    "    dfs.append(pd.DataFrame(v))"
   ]
  },
  {
   "cell_type": "code",
   "execution_count": null,
   "metadata": {},
   "outputs": [],
   "source": [
    "# 根据REFERENCE获取TITLE\n",
    "mindex = ['AC', 'PROTOCOL', 'PGCODTE', 'REFERENCE', 'TITLE', 'STATUS', 'PERFORMACE_DOC', 'DEADLINE_DOC',\n",
    "          'FH_DEADLINE', 'CY_DEADLINE', 'PERFORMACE_DATE', 'DEADLINE_DATE']\n",
    "merged_dfs = []\n",
    "for index, df in enumerate(dfs):\n",
    "    docdf = docs[index]\n",
    "    merged_dfs.append(pd.merge(dfs[index], docdf, on=['PROTOCOL', 'REFERENCE'], how='left')[mindex])"
   ]
  },
  {
   "cell_type": "code",
   "execution_count": null,
   "metadata": {},
   "outputs": [],
   "source": [
    "all_df = merged_dfs[1]\n",
    "groupbyac = all_df.groupby(['AC'])\n",
    "ac_dfs = {}\n",
    "for k, v in groupbyac:\n",
    "    ac_dfs[k] = pd.DataFrame(v)"
   ]
  },
  {
   "cell_type": "code",
   "execution_count": null,
   "metadata": {},
   "outputs": [],
   "source": [
    "output_df = ac_dfs['1820']\n",
    "output_df[output_df['STATUS'] == 'O'].to_excel('1820.xlsx', columns=['AC', 'PROTOCOL', 'REFERENCE', 'TITLE', 'PERFORMACE_DOC', 'DEADLINE_DOC',\n",
    "          'FH_DEADLINE', 'CY_DEADLINE', 'PERFORMACE_DATE', 'DEADLINE_DATE'])"
   ]
  }
 ],
 "metadata": {
  "kernelspec": {
   "display_name": "Python 3",
   "language": "python",
   "name": "python3"
  },
  "language_info": {
   "codemirror_mode": {
    "name": "ipython",
    "version": 3
   },
   "file_extension": ".py",
   "mimetype": "text/x-python",
   "name": "python",
   "nbconvert_exporter": "python",
   "pygments_lexer": "ipython3",
   "version": "3.5.1"
  }
 },
 "nbformat": 4,
 "nbformat_minor": 2
}
