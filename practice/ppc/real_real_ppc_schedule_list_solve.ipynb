{
 "cells": [
  {
   "cell_type": "code",
   "execution_count": 1,
   "metadata": {},
   "outputs": [],
   "source": [
    "import pandas as pd"
   ]
  },
  {
   "cell_type": "code",
   "execution_count": 72,
   "metadata": {},
   "outputs": [],
   "source": [
    "fmpg_filename = 'input20190411R02.xlsx'\n",
    "# 读入数据\n",
    "fmct = pd.read_excel('FMCT.xlsx')\n",
    "fmop = pd.read_excel('FMOP.xlsx')\n",
    "fmvs = pd.read_excel('FMVS.xlsx')\n",
    "frav = pd.read_excel('FRAV.xlsx')\n",
    "fmpg = pd.read_excel(fmpg_filename, dtype=str).replace('nan', '')"
   ]
  },
  {
   "cell_type": "code",
   "execution_count": 73,
   "metadata": {},
   "outputs": [],
   "source": [
    "# 重命名参考表列名\n",
    "nfmvs = pd.DataFrame(fmvs[['VSAPPL', 'VSNUMDOC', 'VSTITRE']])\n",
    "nfmct = pd.DataFrame(fmct[['CTAPPL', 'CTNUMDOC', 'CTTITRE']])\n",
    "nfmop = pd.DataFrame(fmop[['OPAPPL', 'OPNUMDOC', 'OPTITRE']])\n",
    "nfmvs.rename(columns={'VSAPPL': 'PROTOCOL', 'VSNUMDOC': 'REFERENCE', 'VSTITRE': 'TITLE'}, inplace=True)\n",
    "nfmct.rename(columns={'CTAPPL': 'PROTOCOL', 'CTNUMDOC': 'REFERENCE', 'CTTITRE': 'TITLE'}, inplace=True)\n",
    "nfmop.rename(columns={'OPAPPL': 'PROTOCOL', 'OPNUMDOC': 'REFERENCE', 'OPTITRE': 'TITLE'}, inplace=True)\n",
    "docs = {'1': nfmvs, '2': nfmct, '3': nfmop}"
   ]
  },
  {
   "cell_type": "code",
   "execution_count": 74,
   "metadata": {},
   "outputs": [],
   "source": [
    "# 日期格式化\n",
    "def performace_dates_join(years, months, days):\n",
    "    ll = []\n",
    "    for y, m, d in zip(years, months, days):\n",
    "        ll.append(y + m + d)\n",
    "    return pd.Series(ll)\n",
    "\n",
    "def deadline_dates_join(years, months, days):\n",
    "    ll = []\n",
    "    for y, m, d in zip(years, months, days):\n",
    "        if y != '' and m != '' and d != '':\n",
    "            ll.append(y + '-' + m + '-' + d)\n",
    "        else:\n",
    "            ll.append('')\n",
    "    return pd.Series(ll)"
   ]
  },
  {
   "cell_type": "code",
   "execution_count": 75,
   "metadata": {},
   "outputs": [],
   "source": [
    "frav = frav.applymap(lambda x: x.strip())\n",
    "fmpg['AVOFFICIEL'] = fmpg.merge(frav[['AVNUMAP', 'AVOFFICIEL']], how='left', left_on='PGNUMAP', right_on='AVNUMAP')['AVOFFICIEL']"
   ]
  },
  {
   "cell_type": "code",
   "execution_count": 76,
   "metadata": {},
   "outputs": [],
   "source": [
    "# 按导出列名重构fmpg\n",
    "d = {'AC': fmpg['AVOFFICIEL'].str.strip(),\n",
    "     'PROTOCOL': fmpg['PGAPPL'].str.strip(),\n",
    "     'PGCODTE': fmpg['PGCODTE'],\n",
    "     'REFERENCE': fmpg['PGNUMDOC'].str.strip(),\n",
    "     'STATUS': fmpg['PGSIT'].str.strip(),\n",
    "     'PERFORMACE_DOC': fmpg['PGAPPDOC1'].str.strip() + fmpg['PGAPPDOC2'].str.strip(),\n",
    "     'PERFORMACE_DATE': performace_dates_join(fmpg['PGAPPA4'].str.strip(), fmpg['PGAPPMM'].str.strip(), fmpg['PGAPPJJ'].str.strip()),\n",
    "     'FH_DEADLINE': fmpg['PGPRVH'],\n",
    "     'CY_DEADLINE': fmpg['PGPRVC'],\n",
    "     'DEADLINE_DOC': fmpg['PGPRVDOC1'].str.strip() + fmpg['PGPRVDOC2'].str.strip(),\n",
    "     'DEADLINE_DATE': deadline_dates_join(fmpg['PGPRVA4'].str.strip(), fmpg['PGPRVMM'].str.strip(), fmpg['PGPRVJJ'].str.strip())\n",
    "    }\n",
    "\n",
    "nfmpg = pd.DataFrame(d, columns=['AC', 'PROTOCOL', 'PGCODTE', 'REFERENCE', 'STATUS', 'PERFORMACE_DOC', 'PERFORMACE_DATE', \n",
    "                              'FH_DEADLINE', 'CY_DEADLINE', 'DEADLINE_DOC', 'DEADLINE_DATE'])"
   ]
  },
  {
   "cell_type": "code",
   "execution_count": 77,
   "metadata": {},
   "outputs": [],
   "source": [
    "# 根据doc类型分组\n",
    "groupbycode = nfmpg.groupby(nfmpg['PGCODTE'])\n",
    "dfs = {}\n",
    "for k, v in groupbycode:\n",
    "    dfs[k] = pd.DataFrame(v)"
   ]
  },
  {
   "cell_type": "code",
   "execution_count": 78,
   "metadata": {},
   "outputs": [],
   "source": [
    "# 根据REFERENCE获取TITLE\n",
    "mindex = ['AC', 'PROTOCOL', 'PGCODTE', 'REFERENCE', 'TITLE', 'STATUS', 'PERFORMACE_DOC', 'DEADLINE_DOC',\n",
    "          'FH_DEADLINE', 'CY_DEADLINE', 'PERFORMACE_DATE', 'DEADLINE_DATE']\n",
    "\n",
    "merged_dfs = {}\n",
    "for k, v in dfs.items():\n",
    "    merged_dfs[k] = pd.merge(v, docs[k], on=['PROTOCOL', 'REFERENCE'], how='left')[mindex]"
   ]
  },
  {
   "cell_type": "code",
   "execution_count": 69,
   "metadata": {},
   "outputs": [],
   "source": [
    "filtered_df = merged_dfs['2']\n",
    "filtered_df = filtered_df[filtered_df['PERFORMACE_DATE'].str.isalnum()]\n",
    "filtered_df.to_excel('filtered_output_20190411.xlsx', columns=['AC', 'PROTOCOL', 'REFERENCE', 'TITLE', 'PERFORMACE_DOC', 'DEADLINE_DOC',\n",
    "          'FH_DEADLINE', 'CY_DEADLINE', 'PERFORMACE_DATE', 'DEADLINE_DATE'])"
   ]
  },
  {
   "cell_type": "code",
   "execution_count": 68,
   "metadata": {},
   "outputs": [],
   "source": [
    "not_filtered_df = merged_dfs['2']\n",
    "not_filtered_df.to_excel('not_filtered_output_20190411.xlsx', columns=['AC', 'PROTOCOL', 'REFERENCE', 'TITLE', 'PERFORMACE_DOC', 'DEADLINE_DOC',\n",
    "          'FH_DEADLINE', 'CY_DEADLINE', 'PERFORMACE_DATE', 'DEADLINE_DATE'])"
   ]
  },
  {
   "cell_type": "code",
   "execution_count": 79,
   "metadata": {},
   "outputs": [],
   "source": [
    "model_output = merged_dfs['2']\n",
    "model_output = model_output[model_output['PERFORMACE_DATE'].str.isalnum()]\n",
    "model_output.to_excel('model_output_20190411.xlsx', columns=['PROTOCOL', 'REFERENCE', 'AC', 'PERFORMACE_DATE'])"
   ]
  }
 ],
 "metadata": {
  "kernelspec": {
   "display_name": "Python 3",
   "language": "python",
   "name": "python3"
  },
  "language_info": {
   "codemirror_mode": {
    "name": "ipython",
    "version": 3
   },
   "file_extension": ".py",
   "mimetype": "text/x-python",
   "name": "python",
   "nbconvert_exporter": "python",
   "pygments_lexer": "ipython3",
   "version": "3.5.1"
  }
 },
 "nbformat": 4,
 "nbformat_minor": 2
}
