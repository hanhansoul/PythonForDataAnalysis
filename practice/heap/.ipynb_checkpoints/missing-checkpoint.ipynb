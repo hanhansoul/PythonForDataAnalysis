{
 "cells": [
  {
   "cell_type": "code",
   "execution_count": 90,
   "metadata": {},
   "outputs": [],
   "source": [
    "import pandas as pd\n",
    "import numpy as np\n",
    "\n",
    "df = pd.read_excel('input1.xlsx')\n",
    "df['number'] = df.apply(lambda x: int(x['凭证'][-5:]), axis=1)"
   ]
  },
  {
   "cell_type": "code",
   "execution_count": 94,
   "metadata": {},
   "outputs": [
    {
     "data": {
      "text/html": [
       "<div>\n",
       "<style scoped>\n",
       "    .dataframe tbody tr th:only-of-type {\n",
       "        vertical-align: middle;\n",
       "    }\n",
       "\n",
       "    .dataframe tbody tr th {\n",
       "        vertical-align: top;\n",
       "    }\n",
       "\n",
       "    .dataframe thead th {\n",
       "        text-align: right;\n",
       "    }\n",
       "</style>\n",
       "<table border=\"1\" class=\"dataframe\">\n",
       "  <thead>\n",
       "    <tr style=\"text-align: right;\">\n",
       "      <th></th>\n",
       "      <th>label</th>\n",
       "    </tr>\n",
       "  </thead>\n",
       "  <tbody>\n",
       "  </tbody>\n",
       "</table>\n",
       "</div>"
      ],
      "text/plain": [
       "Empty DataFrame\n",
       "Columns: [label]\n",
       "Index: []"
      ]
     },
     "execution_count": 94,
     "metadata": {},
     "output_type": "execute_result"
    }
   ],
   "source": [
    "mx, mi = df['number'].min(), df['number'].max()\n",
    "sdf = pd.DataFrame(np.arange(mi, mx + 1), columns=['label'])\n",
    "sdf"
   ]
  },
  {
   "cell_type": "code",
   "execution_count": 93,
   "metadata": {},
   "outputs": [
    {
     "data": {
      "text/plain": [
       "(1, 19858)"
      ]
     },
     "execution_count": 93,
     "metadata": {},
     "output_type": "execute_result"
    }
   ],
   "source": [
    "mx, mi"
   ]
  },
  {
   "cell_type": "code",
   "execution_count": 85,
   "metadata": {},
   "outputs": [
    {
     "data": {
      "text/plain": [
       "0            1\n",
       "1            2\n",
       "2            3\n",
       "3            4\n",
       "4            5\n",
       "5            6\n",
       "6            7\n",
       "7            8\n",
       "8            9\n",
       "9           10\n",
       "10          11\n",
       "11          12\n",
       "12          13\n",
       "13          14\n",
       "14          15\n",
       "15          16\n",
       "16          17\n",
       "17          18\n",
       "18          19\n",
       "19          20\n",
       "20          21\n",
       "21          22\n",
       "22          23\n",
       "23          24\n",
       "24          25\n",
       "25          26\n",
       "26          27\n",
       "27          28\n",
       "28          29\n",
       "29          30\n",
       "         ...  \n",
       "19828    19829\n",
       "19829    19830\n",
       "19830    19831\n",
       "19831    19832\n",
       "19832    19833\n",
       "19833    19834\n",
       "19834    19835\n",
       "19835    19836\n",
       "19836    19837\n",
       "19837    19838\n",
       "19838    19839\n",
       "19839    19840\n",
       "19840    19841\n",
       "19841    19842\n",
       "19842    19843\n",
       "19843    19844\n",
       "19844    19845\n",
       "19845    19846\n",
       "19846    19847\n",
       "19847    19848\n",
       "19848    19849\n",
       "19849    19850\n",
       "19850    19851\n",
       "19851    19852\n",
       "19852    19853\n",
       "19853    19854\n",
       "19854    19855\n",
       "19855    19856\n",
       "19856    19857\n",
       "19857    19858\n",
       "Length: 19858, dtype: int64"
      ]
     },
     "execution_count": 85,
     "metadata": {},
     "output_type": "execute_result"
    }
   ],
   "source": [
    "# pd.DataFrame(np.arange(s.min(), s.max() + 1), columns=['label'])\n"
   ]
  },
  {
   "cell_type": "code",
   "execution_count": 63,
   "metadata": {},
   "outputs": [
    {
     "data": {
      "text/plain": [
       "[87,\n",
       " 456,\n",
       " 615,\n",
       " 810,\n",
       " 1430,\n",
       " 1546,\n",
       " 2780,\n",
       " 4408,\n",
       " 4596,\n",
       " 4856,\n",
       " 4899,\n",
       " 4900,\n",
       " 4949,\n",
       " 4956,\n",
       " 5199,\n",
       " 5827,\n",
       " 5846,\n",
       " 6121,\n",
       " 6590,\n",
       " 6697,\n",
       " 6701,\n",
       " 6704,\n",
       " 6988,\n",
       " 7143,\n",
       " 7146,\n",
       " 7148,\n",
       " 7151,\n",
       " 7153,\n",
       " 7236,\n",
       " 7251,\n",
       " 7252,\n",
       " 7836,\n",
       " 7888,\n",
       " 7898,\n",
       " 7899,\n",
       " 7900,\n",
       " 8050,\n",
       " 8179,\n",
       " 8735,\n",
       " 9045,\n",
       " 9265,\n",
       " 10037,\n",
       " 10222,\n",
       " 10774,\n",
       " 11276,\n",
       " 11693,\n",
       " 12244,\n",
       " 12659,\n",
       " 13538,\n",
       " 14047,\n",
       " 15046,\n",
       " 15751,\n",
       " 15931,\n",
       " 15932,\n",
       " 15933,\n",
       " 15935,\n",
       " 15937,\n",
       " 17120,\n",
       " 17137,\n",
       " 17382,\n",
       " 17501,\n",
       " 17502,\n",
       " 18325,\n",
       " 18668,\n",
       " 18670,\n",
       " 18672,\n",
       " 18678,\n",
       " 18680,\n",
       " 19164,\n",
       " 19171,\n",
       " 19516,\n",
       " 19562,\n",
       " 19563,\n",
       " 19564,\n",
       " 19566]"
      ]
     },
     "execution_count": 63,
     "metadata": {},
     "output_type": "execute_result"
    }
   ],
   "source": [
    "s = set(int(x[0][-5:]) for x in df.values)\n",
    "missing = []\n",
    "for x in range(1, 19859):\n",
    "    if x not in s:\n",
    "        missing.append(x)\n",
    "missing"
   ]
  },
  {
   "cell_type": "code",
   "execution_count": 69,
   "metadata": {},
   "outputs": [
    {
     "data": {
      "text/plain": [
       "75"
      ]
     },
     "execution_count": 69,
     "metadata": {},
     "output_type": "execute_result"
    }
   ],
   "source": [
    "len(missing)"
   ]
  }
 ],
 "metadata": {
  "kernelspec": {
   "display_name": "Python 3",
   "language": "python",
   "name": "python3"
  },
  "language_info": {
   "codemirror_mode": {
    "name": "ipython",
    "version": 3
   },
   "file_extension": ".py",
   "mimetype": "text/x-python",
   "name": "python",
   "nbconvert_exporter": "python",
   "pygments_lexer": "ipython3",
   "version": "3.5.1"
  }
 },
 "nbformat": 4,
 "nbformat_minor": 2
}
