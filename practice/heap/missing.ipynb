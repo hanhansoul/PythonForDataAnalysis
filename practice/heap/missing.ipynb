{
 "cells": [
  {
   "cell_type": "code",
   "execution_count": 127,
   "metadata": {},
   "outputs": [],
   "source": [
    "import pandas as pd\n",
    "import numpy as np\n",
    "\n",
    "df = pd.read_excel('input1.xlsx')\n",
    "df.drop_duplicates(inplace=True)\n",
    "# df.sort_values(by='凭证', inplace=True)\n",
    "df['number'] = df.apply(lambda x: int(x['凭证'][-5:]), axis=1)\n",
    "mi, mx = df['number'].min(), df['number'].max()\n",
    "sdf = pd.DataFrame({'label': np.arange(mi, mx + 1, dtype=int)})\n",
    "res = pd.merge(sdf, df, left_on='label', right_on='number', how='left')\n",
    "missing = list(res[pd.isna(res['number'])]['label'])\n",
    "print(missing)"
   ]
  },
  {
   "cell_type": "code",
   "execution_count": 128,
   "metadata": {},
   "outputs": [
    {
     "data": {
      "text/plain": [
       "[87,\n",
       " 456,\n",
       " 615,\n",
       " 810,\n",
       " 1430,\n",
       " 1546,\n",
       " 2780,\n",
       " 4408,\n",
       " 4596,\n",
       " 4856,\n",
       " 4899,\n",
       " 4900,\n",
       " 4949,\n",
       " 4956,\n",
       " 5199,\n",
       " 5827,\n",
       " 5846,\n",
       " 6121,\n",
       " 6590,\n",
       " 6697,\n",
       " 6701,\n",
       " 6704,\n",
       " 6988,\n",
       " 7143,\n",
       " 7146,\n",
       " 7148,\n",
       " 7151,\n",
       " 7153,\n",
       " 7236,\n",
       " 7251,\n",
       " 7252,\n",
       " 7836,\n",
       " 7888,\n",
       " 7898,\n",
       " 7899,\n",
       " 7900,\n",
       " 8050,\n",
       " 8179,\n",
       " 8735,\n",
       " 9045,\n",
       " 9265,\n",
       " 10037,\n",
       " 10222,\n",
       " 10774,\n",
       " 11276,\n",
       " 11693,\n",
       " 12244,\n",
       " 12659,\n",
       " 13538,\n",
       " 14047,\n",
       " 15046,\n",
       " 15751,\n",
       " 15931,\n",
       " 15932,\n",
       " 15933,\n",
       " 15935,\n",
       " 15937,\n",
       " 17120,\n",
       " 17137,\n",
       " 17382,\n",
       " 17501,\n",
       " 17502,\n",
       " 18325,\n",
       " 18668,\n",
       " 18670,\n",
       " 18672,\n",
       " 18678,\n",
       " 18680,\n",
       " 19164,\n",
       " 19171,\n",
       " 19516,\n",
       " 19562,\n",
       " 19563,\n",
       " 19564,\n",
       " 19566]"
      ]
     },
     "execution_count": 128,
     "metadata": {},
     "output_type": "execute_result"
    }
   ],
   "source": [
    "missing"
   ]
  },
  {
   "cell_type": "code",
   "execution_count": 63,
   "metadata": {},
   "outputs": [
    {
     "data": {
      "text/plain": [
       "[87,\n",
       " 456,\n",
       " 615,\n",
       " 810,\n",
       " 1430,\n",
       " 1546,\n",
       " 2780,\n",
       " 4408,\n",
       " 4596,\n",
       " 4856,\n",
       " 4899,\n",
       " 4900,\n",
       " 4949,\n",
       " 4956,\n",
       " 5199,\n",
       " 5827,\n",
       " 5846,\n",
       " 6121,\n",
       " 6590,\n",
       " 6697,\n",
       " 6701,\n",
       " 6704,\n",
       " 6988,\n",
       " 7143,\n",
       " 7146,\n",
       " 7148,\n",
       " 7151,\n",
       " 7153,\n",
       " 7236,\n",
       " 7251,\n",
       " 7252,\n",
       " 7836,\n",
       " 7888,\n",
       " 7898,\n",
       " 7899,\n",
       " 7900,\n",
       " 8050,\n",
       " 8179,\n",
       " 8735,\n",
       " 9045,\n",
       " 9265,\n",
       " 10037,\n",
       " 10222,\n",
       " 10774,\n",
       " 11276,\n",
       " 11693,\n",
       " 12244,\n",
       " 12659,\n",
       " 13538,\n",
       " 14047,\n",
       " 15046,\n",
       " 15751,\n",
       " 15931,\n",
       " 15932,\n",
       " 15933,\n",
       " 15935,\n",
       " 15937,\n",
       " 17120,\n",
       " 17137,\n",
       " 17382,\n",
       " 17501,\n",
       " 17502,\n",
       " 18325,\n",
       " 18668,\n",
       " 18670,\n",
       " 18672,\n",
       " 18678,\n",
       " 18680,\n",
       " 19164,\n",
       " 19171,\n",
       " 19516,\n",
       " 19562,\n",
       " 19563,\n",
       " 19564,\n",
       " 19566]"
      ]
     },
     "execution_count": 63,
     "metadata": {},
     "output_type": "execute_result"
    }
   ],
   "source": [
    "s = set(int(x[0][-5:]) for x in df.values)\n",
    "missing = []\n",
    "for x in range(1, 19859):\n",
    "    if x not in s:\n",
    "        missing.append(x)\n",
    "missing"
   ]
  },
  {
   "cell_type": "code",
   "execution_count": 69,
   "metadata": {},
   "outputs": [
    {
     "data": {
      "text/plain": [
       "75"
      ]
     },
     "execution_count": 69,
     "metadata": {},
     "output_type": "execute_result"
    }
   ],
   "source": [
    "len(missing)"
   ]
  }
 ],
 "metadata": {
  "kernelspec": {
   "display_name": "Python 3",
   "language": "python",
   "name": "python3"
  },
  "language_info": {
   "codemirror_mode": {
    "name": "ipython",
    "version": 3
   },
   "file_extension": ".py",
   "mimetype": "text/x-python",
   "name": "python",
   "nbconvert_exporter": "python",
   "pygments_lexer": "ipython3",
   "version": "3.5.1"
  }
 },
 "nbformat": 4,
 "nbformat_minor": 2
}
